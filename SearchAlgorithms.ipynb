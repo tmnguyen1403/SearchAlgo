{
 "cells": [
  {
   "cell_type": "markdown",
   "metadata": {},
   "source": [
    "## Search topic\n",
    "This notebook is used to implement uninform search algorithms \n",
    "### Implemented\n",
    "1. Breadth First Search\n",
    "2. Depth First Search\n",
    "3. Uniform Cost Search (Dijsktra)  \n",
    "### Todo\n",
    "4. Depth First Search Limited\n",
    "5. Iterative deepening search"
   ]
  },
  {
   "cell_type": "code",
   "execution_count": 178,
   "metadata": {},
   "outputs": [],
   "source": [
    "import queue\n",
    "class Node:\n",
    "    def __init__(self, name):\n",
    "        self.name = name\n",
    "        self.costs = {}\n",
    "    def addEdge(self, dst, cost):\n",
    "        self.costs[dst] = cost\n",
    "    def getNeighbors(self):\n",
    "        return self.costs.keys()\n",
    "    \n",
    "class Search:\n",
    "    \n",
    "    def __init__(self):\n",
    "        self.path = {}\n",
    "    \n",
    "    #Backtrack\n",
    "    def makePath(self, src:Node, target:Node, path: dict):\n",
    "        res = [target.name]\n",
    "        current = target.name\n",
    "        while current and current != src.name:\n",
    "            current = path[current]\n",
    "            res.append(current)\n",
    "        if current == None:\n",
    "            return []\n",
    "        return list(reversed(res))\n",
    "    \n",
    "    #BreadthFirstSearch\n",
    "    def bfs(self, src:Node, target:Node, listNodes):\n",
    "        if not src or not target:\n",
    "            return []\n",
    "        if src == target:\n",
    "            return [src.name]\n",
    "        #Saving the path\n",
    "        self.path = {}\n",
    "        self.path[src.name] = None\n",
    "        reached = {}\n",
    "        nodes = queue.Queue()\n",
    "        nodes.put(src)\n",
    "        while not nodes.empty():\n",
    "            expandingNode = nodes.get()\n",
    "            print(expandingNode.name)\n",
    "            for name in expandingNode.getNeighbors():\n",
    "                neighborNode = listNodes[name]\n",
    "                self.path[name] = expandingNode.name\n",
    "                if neighborNode == target:\n",
    "                    return self.makePath(src,target,self.path)\n",
    "                if not name in reached:\n",
    "                    nodes.put(neighborNode)\n",
    "                    reached[name] = True\n",
    "        return []\n",
    "    \n",
    "    #DepthFirstSearch\n",
    "    def dfs(self, src:Node, target:Node, listNodes):\n",
    "        if not src or not target:\n",
    "            return []\n",
    "        if src == target:\n",
    "            return [target.name]\n",
    "        print(src.name)\n",
    "        for name in src.getNeighbors():\n",
    "            path = self.dfs(listNodes[name], target,listNodes)\n",
    "            if path != None:\n",
    "                path.append(src.name)\n",
    "                return path\n",
    "        return []\n",
    "    \n",
    "    #BestFirstSearch - UniformSearchCost - Dijkstra\n",
    "    def dijkstra(self, src:Node, target:Node, listNodes):\n",
    "        #use heap to store node that have smallest cost\n",
    "        import heapq\n",
    "        if not src or not target:\n",
    "            return []\n",
    "        if src == target:\n",
    "            return [src.name]\n",
    "        #expanding the current src node\n",
    "        myNodes = [(0,src.name)] #minHeap\n",
    "        path = {}\n",
    "        minCost = {} #minimum cost of travelling to the node\n",
    "        \n",
    "        while myNodes:\n",
    "            cost, name = heapq.heappop(myNodes)\n",
    "            minCost[name] = cost\n",
    "            node = listNodes[name]\n",
    "            print(cost,name)\n",
    "            if node == target:\n",
    "                return self.makePath(src,target,path)\n",
    "            for neighbor in node.getNeighbors():\n",
    "                neighborCost = cost + node.costs[neighbor]\n",
    "                heapq.heappush(myNodes, (neighborCost, neighbor))\n",
    "                #update optimal path only when there is new smaller path\n",
    "                if not neighbor in path or minCost[neighbor] > neighborCost:\n",
    "                    minCost[neighbor] = neighborCost\n",
    "                    path[neighbor] = name\n",
    "            \n",
    "        return []\n",
    "    "
   ]
  },
  {
   "cell_type": "code",
   "execution_count": 188,
   "metadata": {},
   "outputs": [],
   "source": [
    "#Example input - \n",
    "'''\n",
    "Directed Acyclic Graph\n",
    "Positive Cost\n",
    "'''\n",
    "edges = [\n",
    "    (\"S\",\"A\",1),\n",
    "    (\"S\",\"G\",12),\n",
    "\n",
    "    (\"A\",\"B\",3),\n",
    "\n",
    "    (\"A\",\"C\",1),\n",
    "\n",
    "    (\"C\",\"D\",1),\n",
    "\n",
    "    (\"C\",\"G\",2),\n",
    "    (\"B\", \"D\",3),\n",
    "    (\"D\",\"G\",3)\n",
    "]\n",
    "nodes = {}\n",
    "for edge in edges:\n",
    "    src,dst,cost = edge\n",
    "    if not src in nodes:\n",
    "        nodes[src] = Node(src)\n",
    "    if not dst in nodes:\n",
    "        nodes[dst] = Node(dst)\n",
    "    nodes[src].addEdge(dst,cost)"
   ]
  },
  {
   "cell_type": "code",
   "execution_count": 180,
   "metadata": {},
   "outputs": [
    {
     "name": "stdout",
     "output_type": "stream",
     "text": [
      "S\n",
      "S A 1\n",
      "S G 12\n",
      "A\n",
      "A B 3\n",
      "A C 1\n",
      "G\n",
      "B\n",
      "B D 3\n",
      "C\n",
      "C D 1\n",
      "C G 2\n",
      "D\n",
      "D G 3\n"
     ]
    }
   ],
   "source": [
    "for name,node in nodes.items():\n",
    "    print(name)\n",
    "    for edge in node.getNeighbors():\n",
    "        print(name,edge, node.costs[edge])"
   ]
  },
  {
   "cell_type": "code",
   "execution_count": 181,
   "metadata": {},
   "outputs": [],
   "source": [
    "algo = Search()"
   ]
  },
  {
   "cell_type": "code",
   "execution_count": 189,
   "metadata": {
    "scrolled": false
   },
   "outputs": [
    {
     "name": "stdout",
     "output_type": "stream",
     "text": [
      "Explore process: \n",
      "S\n",
      "Mypath: ['S', 'G']\n"
     ]
    }
   ],
   "source": [
    "#Breadth-First-Search\n",
    "src = \"S\"\n",
    "target = \"G\"\n",
    "print(\"Explore process: \")\n",
    "path = algo.bfs(nodes[src], nodes[target],nodes)\n",
    "print(\"Mypath:\",path)"
   ]
  },
  {
   "cell_type": "code",
   "execution_count": 190,
   "metadata": {
    "scrolled": false
   },
   "outputs": [
    {
     "name": "stdout",
     "output_type": "stream",
     "text": [
      "S\n",
      "A\n",
      "B\n",
      "D\n",
      "Mypath: ['S', 'A', 'B', 'D', 'G']\n"
     ]
    }
   ],
   "source": [
    "#Depth-First-Search\n",
    "path = algo.dfs(nodes[src], nodes[target],nodes)\n",
    "print(\"Mypath:\",list(reversed(path)))"
   ]
  },
  {
   "cell_type": "code",
   "execution_count": 191,
   "metadata": {
    "scrolled": true
   },
   "outputs": [
    {
     "name": "stdout",
     "output_type": "stream",
     "text": [
      "0 S\n",
      "1 A\n",
      "2 C\n",
      "3 D\n",
      "4 B\n",
      "4 G\n",
      "Mypath: ['S', 'A', 'C', 'G']\n"
     ]
    }
   ],
   "source": [
    "#Uniform Cost Search\n",
    "path = algo.dijkstra(nodes[src], nodes[target], nodes)\n",
    "print(\"Mypath:\",path)"
   ]
  }
 ],
 "metadata": {
  "kernelspec": {
   "display_name": "Python 3",
   "language": "python",
   "name": "python3"
  },
  "language_info": {
   "codemirror_mode": {
    "name": "ipython",
    "version": 3
   },
   "file_extension": ".py",
   "mimetype": "text/x-python",
   "name": "python",
   "nbconvert_exporter": "python",
   "pygments_lexer": "ipython3",
   "version": "3.9.0"
  }
 },
 "nbformat": 4,
 "nbformat_minor": 4
}
